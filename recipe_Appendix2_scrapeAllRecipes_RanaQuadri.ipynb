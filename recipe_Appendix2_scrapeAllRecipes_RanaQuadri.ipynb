{
 "cells": [
  {
   "cell_type": "markdown",
   "metadata": {},
   "source": [
    "## Scrape AllRecipes for additional features"
   ]
  },
  {
   "cell_type": "code",
   "execution_count": 1,
   "metadata": {
    "collapsed": true
   },
   "outputs": [],
   "source": [
    "from bs4 import BeautifulSoup as bs\n",
    "import requests\n",
    "import numpy as np\n",
    "import pandas as pd\n",
    "import pause"
   ]
  },
  {
   "cell_type": "code",
   "execution_count": 3,
   "metadata": {},
   "outputs": [
    {
     "ename": "IOError",
     "evalue": "File /Users/ranaquadri/Documents/predictreciperatings/recipe files/all.csv does not exist",
     "output_type": "error",
     "traceback": [
      "\u001b[0;31m---------------------------------------------------------------------------\u001b[0m",
      "\u001b[0;31mIOError\u001b[0m                                   Traceback (most recent call last)",
      "\u001b[0;32m<ipython-input-3-62de60126666>\u001b[0m in \u001b[0;36m<module>\u001b[0;34m()\u001b[0m\n\u001b[1;32m      1\u001b[0m \u001b[0;31m## Get URLs from dataset\u001b[0m\u001b[0;34m\u001b[0m\u001b[0;34m\u001b[0m\u001b[0m\n\u001b[1;32m      2\u001b[0m \u001b[0;34m\u001b[0m\u001b[0m\n\u001b[0;32m----> 3\u001b[0;31m \u001b[0mrecipe\u001b[0m\u001b[0;34m=\u001b[0m\u001b[0mpd\u001b[0m\u001b[0;34m.\u001b[0m\u001b[0mread_csv\u001b[0m\u001b[0;34m(\u001b[0m\u001b[0;34m'/Users/ranaquadri/Documents/predictreciperatings/recipe files/all.csv'\u001b[0m\u001b[0;34m)\u001b[0m\u001b[0;34m\u001b[0m\u001b[0m\n\u001b[0m\u001b[1;32m      4\u001b[0m \u001b[0;34m\u001b[0m\u001b[0m\n\u001b[1;32m      5\u001b[0m \u001b[0mrecipe_urls\u001b[0m \u001b[0;34m=\u001b[0m \u001b[0;34m[\u001b[0m\u001b[0mitem\u001b[0m \u001b[0;32mfor\u001b[0m \u001b[0mitem\u001b[0m \u001b[0;32min\u001b[0m \u001b[0mrecipes\u001b[0m\u001b[0;34m[\u001b[0m\u001b[0;34m'source_url'\u001b[0m\u001b[0;34m]\u001b[0m \u001b[0;32mif\u001b[0m \u001b[0mitem\u001b[0m\u001b[0;34m.\u001b[0m\u001b[0mstartswith\u001b[0m\u001b[0;34m(\u001b[0m\u001b[0;34m'http://allrecipes'\u001b[0m\u001b[0;34m)\u001b[0m\u001b[0;34m]\u001b[0m\u001b[0;34m\u001b[0m\u001b[0m\n",
      "\u001b[0;32m/Users/ranaquadri/anaconda2/lib/python2.7/site-packages/pandas/io/parsers.pyc\u001b[0m in \u001b[0;36mparser_f\u001b[0;34m(filepath_or_buffer, sep, delimiter, header, names, index_col, usecols, squeeze, prefix, mangle_dupe_cols, dtype, engine, converters, true_values, false_values, skipinitialspace, skiprows, nrows, na_values, keep_default_na, na_filter, verbose, skip_blank_lines, parse_dates, infer_datetime_format, keep_date_col, date_parser, dayfirst, iterator, chunksize, compression, thousands, decimal, lineterminator, quotechar, quoting, escapechar, comment, encoding, dialect, tupleize_cols, error_bad_lines, warn_bad_lines, skipfooter, skip_footer, doublequote, delim_whitespace, as_recarray, compact_ints, use_unsigned, low_memory, buffer_lines, memory_map, float_precision)\u001b[0m\n\u001b[1;32m    653\u001b[0m                     skip_blank_lines=skip_blank_lines)\n\u001b[1;32m    654\u001b[0m \u001b[0;34m\u001b[0m\u001b[0m\n\u001b[0;32m--> 655\u001b[0;31m         \u001b[0;32mreturn\u001b[0m \u001b[0m_read\u001b[0m\u001b[0;34m(\u001b[0m\u001b[0mfilepath_or_buffer\u001b[0m\u001b[0;34m,\u001b[0m \u001b[0mkwds\u001b[0m\u001b[0;34m)\u001b[0m\u001b[0;34m\u001b[0m\u001b[0m\n\u001b[0m\u001b[1;32m    656\u001b[0m \u001b[0;34m\u001b[0m\u001b[0m\n\u001b[1;32m    657\u001b[0m     \u001b[0mparser_f\u001b[0m\u001b[0;34m.\u001b[0m\u001b[0m__name__\u001b[0m \u001b[0;34m=\u001b[0m \u001b[0mname\u001b[0m\u001b[0;34m\u001b[0m\u001b[0m\n",
      "\u001b[0;32m/Users/ranaquadri/anaconda2/lib/python2.7/site-packages/pandas/io/parsers.pyc\u001b[0m in \u001b[0;36m_read\u001b[0;34m(filepath_or_buffer, kwds)\u001b[0m\n\u001b[1;32m    403\u001b[0m \u001b[0;34m\u001b[0m\u001b[0m\n\u001b[1;32m    404\u001b[0m     \u001b[0;31m# Create the parser.\u001b[0m\u001b[0;34m\u001b[0m\u001b[0;34m\u001b[0m\u001b[0m\n\u001b[0;32m--> 405\u001b[0;31m     \u001b[0mparser\u001b[0m \u001b[0;34m=\u001b[0m \u001b[0mTextFileReader\u001b[0m\u001b[0;34m(\u001b[0m\u001b[0mfilepath_or_buffer\u001b[0m\u001b[0;34m,\u001b[0m \u001b[0;34m**\u001b[0m\u001b[0mkwds\u001b[0m\u001b[0;34m)\u001b[0m\u001b[0;34m\u001b[0m\u001b[0m\n\u001b[0m\u001b[1;32m    406\u001b[0m \u001b[0;34m\u001b[0m\u001b[0m\n\u001b[1;32m    407\u001b[0m     \u001b[0;32mif\u001b[0m \u001b[0mchunksize\u001b[0m \u001b[0;32mor\u001b[0m \u001b[0miterator\u001b[0m\u001b[0;34m:\u001b[0m\u001b[0;34m\u001b[0m\u001b[0m\n",
      "\u001b[0;32m/Users/ranaquadri/anaconda2/lib/python2.7/site-packages/pandas/io/parsers.pyc\u001b[0m in \u001b[0;36m__init__\u001b[0;34m(self, f, engine, **kwds)\u001b[0m\n\u001b[1;32m    762\u001b[0m             \u001b[0mself\u001b[0m\u001b[0;34m.\u001b[0m\u001b[0moptions\u001b[0m\u001b[0;34m[\u001b[0m\u001b[0;34m'has_index_names'\u001b[0m\u001b[0;34m]\u001b[0m \u001b[0;34m=\u001b[0m \u001b[0mkwds\u001b[0m\u001b[0;34m[\u001b[0m\u001b[0;34m'has_index_names'\u001b[0m\u001b[0;34m]\u001b[0m\u001b[0;34m\u001b[0m\u001b[0m\n\u001b[1;32m    763\u001b[0m \u001b[0;34m\u001b[0m\u001b[0m\n\u001b[0;32m--> 764\u001b[0;31m         \u001b[0mself\u001b[0m\u001b[0;34m.\u001b[0m\u001b[0m_make_engine\u001b[0m\u001b[0;34m(\u001b[0m\u001b[0mself\u001b[0m\u001b[0;34m.\u001b[0m\u001b[0mengine\u001b[0m\u001b[0;34m)\u001b[0m\u001b[0;34m\u001b[0m\u001b[0m\n\u001b[0m\u001b[1;32m    765\u001b[0m \u001b[0;34m\u001b[0m\u001b[0m\n\u001b[1;32m    766\u001b[0m     \u001b[0;32mdef\u001b[0m \u001b[0mclose\u001b[0m\u001b[0;34m(\u001b[0m\u001b[0mself\u001b[0m\u001b[0;34m)\u001b[0m\u001b[0;34m:\u001b[0m\u001b[0;34m\u001b[0m\u001b[0m\n",
      "\u001b[0;32m/Users/ranaquadri/anaconda2/lib/python2.7/site-packages/pandas/io/parsers.pyc\u001b[0m in \u001b[0;36m_make_engine\u001b[0;34m(self, engine)\u001b[0m\n\u001b[1;32m    983\u001b[0m     \u001b[0;32mdef\u001b[0m \u001b[0m_make_engine\u001b[0m\u001b[0;34m(\u001b[0m\u001b[0mself\u001b[0m\u001b[0;34m,\u001b[0m \u001b[0mengine\u001b[0m\u001b[0;34m=\u001b[0m\u001b[0;34m'c'\u001b[0m\u001b[0;34m)\u001b[0m\u001b[0;34m:\u001b[0m\u001b[0;34m\u001b[0m\u001b[0m\n\u001b[1;32m    984\u001b[0m         \u001b[0;32mif\u001b[0m \u001b[0mengine\u001b[0m \u001b[0;34m==\u001b[0m \u001b[0;34m'c'\u001b[0m\u001b[0;34m:\u001b[0m\u001b[0;34m\u001b[0m\u001b[0m\n\u001b[0;32m--> 985\u001b[0;31m             \u001b[0mself\u001b[0m\u001b[0;34m.\u001b[0m\u001b[0m_engine\u001b[0m \u001b[0;34m=\u001b[0m \u001b[0mCParserWrapper\u001b[0m\u001b[0;34m(\u001b[0m\u001b[0mself\u001b[0m\u001b[0;34m.\u001b[0m\u001b[0mf\u001b[0m\u001b[0;34m,\u001b[0m \u001b[0;34m**\u001b[0m\u001b[0mself\u001b[0m\u001b[0;34m.\u001b[0m\u001b[0moptions\u001b[0m\u001b[0;34m)\u001b[0m\u001b[0;34m\u001b[0m\u001b[0m\n\u001b[0m\u001b[1;32m    986\u001b[0m         \u001b[0;32melse\u001b[0m\u001b[0;34m:\u001b[0m\u001b[0;34m\u001b[0m\u001b[0m\n\u001b[1;32m    987\u001b[0m             \u001b[0;32mif\u001b[0m \u001b[0mengine\u001b[0m \u001b[0;34m==\u001b[0m \u001b[0;34m'python'\u001b[0m\u001b[0;34m:\u001b[0m\u001b[0;34m\u001b[0m\u001b[0m\n",
      "\u001b[0;32m/Users/ranaquadri/anaconda2/lib/python2.7/site-packages/pandas/io/parsers.pyc\u001b[0m in \u001b[0;36m__init__\u001b[0;34m(self, src, **kwds)\u001b[0m\n\u001b[1;32m   1603\u001b[0m         \u001b[0mkwds\u001b[0m\u001b[0;34m[\u001b[0m\u001b[0;34m'allow_leading_cols'\u001b[0m\u001b[0;34m]\u001b[0m \u001b[0;34m=\u001b[0m \u001b[0mself\u001b[0m\u001b[0;34m.\u001b[0m\u001b[0mindex_col\u001b[0m \u001b[0;32mis\u001b[0m \u001b[0;32mnot\u001b[0m \u001b[0mFalse\u001b[0m\u001b[0;34m\u001b[0m\u001b[0m\n\u001b[1;32m   1604\u001b[0m \u001b[0;34m\u001b[0m\u001b[0m\n\u001b[0;32m-> 1605\u001b[0;31m         \u001b[0mself\u001b[0m\u001b[0;34m.\u001b[0m\u001b[0m_reader\u001b[0m \u001b[0;34m=\u001b[0m \u001b[0mparsers\u001b[0m\u001b[0;34m.\u001b[0m\u001b[0mTextReader\u001b[0m\u001b[0;34m(\u001b[0m\u001b[0msrc\u001b[0m\u001b[0;34m,\u001b[0m \u001b[0;34m**\u001b[0m\u001b[0mkwds\u001b[0m\u001b[0;34m)\u001b[0m\u001b[0;34m\u001b[0m\u001b[0m\n\u001b[0m\u001b[1;32m   1606\u001b[0m \u001b[0;34m\u001b[0m\u001b[0m\n\u001b[1;32m   1607\u001b[0m         \u001b[0;31m# XXX\u001b[0m\u001b[0;34m\u001b[0m\u001b[0;34m\u001b[0m\u001b[0m\n",
      "\u001b[0;32mpandas/_libs/parsers.pyx\u001b[0m in \u001b[0;36mpandas._libs.parsers.TextReader.__cinit__ (pandas/_libs/parsers.c:4209)\u001b[0;34m()\u001b[0m\n",
      "\u001b[0;32mpandas/_libs/parsers.pyx\u001b[0m in \u001b[0;36mpandas._libs.parsers.TextReader._setup_parser_source (pandas/_libs/parsers.c:8873)\u001b[0;34m()\u001b[0m\n",
      "\u001b[0;31mIOError\u001b[0m: File /Users/ranaquadri/Documents/predictreciperatings/recipe files/all.csv does not exist"
     ]
    }
   ],
   "source": [
    "## Get URLs from dataset\n",
    "\n",
    "recipe=pd.read_csv('/Users/ranaquadri/Documents/predictreciperatings/recipe files/all.csv')\n",
    "\n",
    "recipe_urls = [item for item in recipes['source_url'] if item.startswith('http://allrecipes')]\n",
    "len(recipe_urls)\n"
   ]
  },
  {
   "cell_type": "markdown",
   "metadata": {},
   "source": [
    "### Step 1: Create a soup object from the home page¶"
   ]
  },
  {
   "cell_type": "code",
   "execution_count": null,
   "metadata": {
    "collapsed": true
   },
   "outputs": [],
   "source": []
  },
  {
   "cell_type": "code",
   "execution_count": 123,
   "metadata": {
    "collapsed": true,
    "scrolled": false
   },
   "outputs": [],
   "source": [
    "recipe_info=[]\n",
    "# Use the requests library to get the html from the home page\n",
    "# for row in dataframe[column]:\n",
    "for item in recipe_urls: \n",
    "    print item\n",
    "    current_url = item\n",
    "    try:\n",
    "        res = requests.get(item)\n",
    "    except:\n",
    "        pause.seconds(5)\n",
    "        continue\n",
    "    temp_recipe = {}\n",
    "    temp_recipe['source_url'] = current_url\n",
    "    # Create a soup object from the html\n",
    "    soup = bs(res.content, 'lxml')\n",
    "    # Object for ratings, descrip, reviews, etc\n",
    "    try:\n",
    "        recipe = soup.find('section', {'class': 'recipe-summary clearfix'})\n",
    "    except:\n",
    "        pass\n",
    "    # Find the recipe rating (average not rounded)\n",
    "    try:\n",
    "        temp_recipe['rating'] = recipe.find('meta', {'property':'og:rating'})['content']\n",
    "    except:\n",
    "        pass\n",
    "    # Grab the name of the recipe\n",
    "    try:\n",
    "        temp_recipe['name'] = recipe.find('h1', {'itemprop': 'name'}).text\n",
    "    except:\n",
    "        pass\n",
    "    # Grab number of reviews\n",
    "    try:\n",
    "        temp_recipe['num_reviews'] = recipe.find('meta', {'itemprop': \"reviewCount\"})['content']\n",
    "    except:\n",
    "        pass\n",
    "    # Grab recipe description\n",
    "    # The recipe text outputs the string '\\r\\n before the actual string so you can try different methods to get rid of it\n",
    "    try:\n",
    "        temp_recipe['descrip'] = recipe.find('div', {'class': 'submitter__description'}).text\n",
    "    except:\n",
    "        pass\n",
    "    # Grab nutrition info\n",
    "    try:\n",
    "        nutrition = soup.find('section', {'itemprop': 'nutrition'})\n",
    "    except:\n",
    "        pass\n",
    "    try:\n",
    "        temp_recipe['nut_fat'] = nutrition.find('span', {'itemprop': 'fatContent'}).text\n",
    "    except:\n",
    "        pass\n",
    "    try:\n",
    "        temp_recipe['nut_carb'] = nutrition.find('span', {'itemprop': 'carbohydrateContent'}).text\n",
    "    except:\n",
    "        pass\n",
    "    try:\n",
    "        temp_recipe['nut_cals'] = nutrition.find('span', {'itemprop': 'calories'}).text.replace(';', '').replace(' calories','')\n",
    "    except:\n",
    "        pass\n",
    "    try:\n",
    "        temp_recipe['nut_prot'] = nutrition.find('span', {'itemprop': 'proteinContent'}).text\n",
    "    except:\n",
    "        pass\n",
    "    try:\n",
    "        temp_recipe['nut_choles'] = nutrition.find('span', {'itemprop': 'cholesterolContent'}).text\n",
    "    except:\n",
    "        pass\n",
    "    try:\n",
    "        temp_recipe['nut_sod'] = nutrition.find('span', {'itemprop': 'sodiumContent'}).text\n",
    "    except:\n",
    "        pass\n",
    "    recipe_info2.append(temp_recipe)\n",
    "    pause.seconds(20)"
   ]
  },
  {
   "cell_type": "markdown",
   "metadata": {},
   "source": [
    "## Step 2: Look at scraped data"
   ]
  },
  {
   "cell_type": "code",
   "execution_count": 107,
   "metadata": {
    "scrolled": false
   },
   "outputs": [
    {
     "name": "stdout",
     "output_type": "stream",
     "text": [
      "1446\n",
      "{'rating': '4.69858169555664', 'nut_cals': u'408', 'name': u'Apple Crumb Pie', 'nut_carb': u'69.9', 'nut_prot': u'3.5', 'nut_fat': u'14.6', 'source_url': 'http://allrecipes.com/Recipe/Apple-Crumb-Pie/Detail.aspx', 'num_reviews': '678', 'nut_sod': u'139', 'descrip': u'\\r\\n\"You can add walnuts and raisins to this apple crumb pie to make it even dreamier!\"        ', 'nut_choles': u'11'}\n"
     ]
    }
   ],
   "source": [
    "print len(recipe_info)\n",
    "print recipe_info[1]"
   ]
  },
  {
   "cell_type": "code",
   "execution_count": 134,
   "metadata": {
    "scrolled": true
   },
   "outputs": [
    {
     "name": "stdout",
     "output_type": "stream",
     "text": [
      "                                             descrip  \\\n",
      "0  \\r\\n\"This was my grandmother's apple pie recip...   \n",
      "1  \\r\\n\"You can add walnuts and raisins to this a...   \n",
      "2  \\r\\n\"This was my grandmother's apple pie recip...   \n",
      "3                              \\r\\n\"Delish!\"           \n",
      "4  \\r\\n\"Homey, sweet, custardy pie NOT like Grand...   \n",
      "\n",
      "                                       name num_reviews nut_cals nut_carb  \\\n",
      "0                 Apple Pie by Grandma Ople        7720      512     67.8   \n",
      "1                           Apple Crumb Pie         678      408     69.9   \n",
      "2                 Grandma Ople's  Apple Pie        2166      512     67.8   \n",
      "3  Grandma's Apple Pie 'Ala Mode' Moonshine         115      150       20   \n",
      "4         Warm Apple Buttermilk Custard Pie         127      549     80.4   \n",
      "\n",
      "  nut_choles nut_fat nut_prot nut_sod            rating  \\\n",
      "0         31    26.7      3.6     241  4.77218675613403   \n",
      "1         11    14.6      3.5     139  4.69858169555664   \n",
      "2         31    26.7      3.6     241  4.79600715637207   \n",
      "3          0     0.1        0       8  4.87142848968506   \n",
      "4        136    23.9      5.9     276  4.63194465637207   \n",
      "\n",
      "                                          source_url  \n",
      "0  http://allrecipes.com/Recipe/Apple-Pie-By-Gran...  \n",
      "1  http://allrecipes.com/Recipe/Apple-Crumb-Pie/D...  \n",
      "2  http://allrecipes.com/Recipe/Grandma-Oples-App...  \n",
      "3  http://allrecipes.com/Recipe/Grandmas-Apple-Pi...  \n",
      "4  http://allrecipes.com/Recipe/Warm-Apple-Butter...  \n"
     ]
    }
   ],
   "source": [
    "# Create a dataframe from scraped data\n",
    "\n",
    "allrec=pd.DataFrame(recipe_info)\n",
    "print allrec.head()"
   ]
  },
  {
   "cell_type": "code",
   "execution_count": null,
   "metadata": {
    "collapsed": true,
    "scrolled": true
   },
   "outputs": [],
   "source": [
    "# Merge scraped data with API data\n",
    "recipe_master=pd.merge(allrec, recipe, on='source_url', how='outer')\n",
    "print recipe_master.info()"
   ]
  },
  {
   "cell_type": "code",
   "execution_count": null,
   "metadata": {
    "collapsed": true
   },
   "outputs": [],
   "source": [
    "# Add column for type of recipe\n",
    "\n",
    "def recipe_type(text_in):\n",
    "    try:\n",
    "        if 'pie' in str(text_in).lower():\n",
    "            return 'pie'\n",
    "        if 'cookies' in str(text_in).lower():\n",
    "            return 'cookies'\n",
    "        if 'muffins' in str(text_in).lower():\n",
    "            return 'muffins'\n",
    "        if 'cake' in str(text_in).lower():\n",
    "            return 'cake'\n",
    "        if 'brownies' in str(text_in).lower():\n",
    "            return 'brownies'\n",
    "        if 'scones' in str(text_in).lower():\n",
    "            return 'scones'\n",
    "        else:\n",
    "            return 'other'\n",
    "    except: \n",
    "        return 0\n",
    "recipe_master['recipe_type'] = recipe_master['title'].map(recipe_type)"
   ]
  },
  {
   "cell_type": "code",
   "execution_count": 140,
   "metadata": {},
   "outputs": [
    {
     "name": "stdout",
     "output_type": "stream",
     "text": [
      "<class 'pandas.core.frame.DataFrame'>\n",
      "Int64Index: 1458 entries, 0 to 1457\n",
      "Data columns (total 32 columns):\n",
      "descrip              1441 non-null object\n",
      "name                 1441 non-null object\n",
      "num_reviews          1441 non-null object\n",
      "nut_cals             1433 non-null object\n",
      "nut_carb             1433 non-null object\n",
      "nut_choles           1433 non-null object\n",
      "nut_fat              1433 non-null object\n",
      "nut_prot             1433 non-null object\n",
      "nut_sod              1433 non-null object\n",
      "rating               1441 non-null object\n",
      "source_url           1458 non-null object\n",
      "social_rank          1458 non-null float64\n",
      "publisher            1458 non-null object\n",
      "f2f_url              1458 non-null object\n",
      "ingredients          1458 non-null object\n",
      "recipe_id            1458 non-null object\n",
      "image_url            1458 non-null object\n",
      "publisher_url        1458 non-null object\n",
      "title                1458 non-null object\n",
      "sugar                1458 non-null float64\n",
      "fat                  1458 non-null float64\n",
      "dry                  1458 non-null float64\n",
      "ratio_sugar_flour    1458 non-null float64\n",
      "ratio_fat_flour      1346 non-null float64\n",
      "pos_adj              1458 non-null int64\n",
      "health_adj           1458 non-null int64\n",
      "pie                  1458 non-null int64\n",
      "cookies              1458 non-null int64\n",
      "scones               1458 non-null int64\n",
      "muffins              1458 non-null int64\n",
      "snick                1458 non-null int64\n",
      "brownies             1458 non-null int64\n",
      "dtypes: float64(6), int64(8), object(18)\n",
      "memory usage: 375.9+ KB\n"
     ]
    }
   ],
   "source": [
    "# Check new columns\n",
    "recipe_master.info()"
   ]
  },
  {
   "cell_type": "code",
   "execution_count": 138,
   "metadata": {
    "collapsed": true
   },
   "outputs": [],
   "source": [
    "# Drop unnecessary columns\n",
    "recipe_master=recipe_master.drop(['descrip','image_url','publisher_url','f2f_url','source_url','publisher','ingredients'],axis=1)\n"
   ]
  },
  {
   "cell_type": "code",
   "execution_count": 143,
   "metadata": {
    "collapsed": true
   },
   "outputs": [],
   "source": [
    "# Save master to csv\n",
    "recipe_master.to_csv('recipe_master1.csv', encoding='utf-8')"
   ]
  }
 ],
 "metadata": {
  "kernelspec": {
   "display_name": "Python 2",
   "language": "python",
   "name": "python2"
  },
  "language_info": {
   "codemirror_mode": {
    "name": "ipython",
    "version": 2
   },
   "file_extension": ".py",
   "mimetype": "text/x-python",
   "name": "python",
   "nbconvert_exporter": "python",
   "pygments_lexer": "ipython2",
   "version": "2.7.14"
  }
 },
 "nbformat": 4,
 "nbformat_minor": 2
}
