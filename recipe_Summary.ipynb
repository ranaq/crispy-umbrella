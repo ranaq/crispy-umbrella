{
 "cells": [
  {
   "cell_type": "markdown",
   "metadata": {},
   "source": [
    "### Summary of Data\n",
    "\n",
    "I obtained my data using two methods. The first was via the Food2Fork recipe API (Appendix 1). The second was using Beautiful Soup to scrape additional data fields from the All Recipes website (Appendix 2).\n",
    "\n",
    "My dataset consists of 24 variables, with roughly 1,300 observations. Each observation represents one recipe. Recipes are limited to those for baked goods; specifically, pie, cookies, scones, muffins, brownies and cake. This was accomplished by filtering the data to include only recipes that contain sugar as an ingredient. \n",
    "\n",
    "The target variable is rating, as represented by the average user rating from All Recipes."
   ]
  },
  {
   "cell_type": "markdown",
   "metadata": {},
   "source": [
    "Variable|Description|Variable Type|Data Type\n",
    "-|-|-|-\n",
    "name|name of recipe|text|string\n",
    "num_reviews|number of reviews|continuous|int\n",
    "nut_cals|calories per serving|continuous|int\n",
    "nut_carb|carbohydrates per serving|continuous|int\n",
    "nut_choles|cholesterol per serving|continuous|int\n",
    "nut_fat|fat per serving|continuous|int\n",
    "nut_prot|protein per serving|continuous|int\n",
    "nut_sod|sodium per serving|continuous|int\n",
    "rating|average rating of recipe|continuous|float\n",
    "social_rank|'social rank' of recipe as determined by food2fork|continuous|float (0-100)\n",
    "recipe_id| ID of recipe|continuous|int"
   ]
  },
  {
   "cell_type": "markdown",
   "metadata": {},
   "source": [
    "In additional to the original data fields, I created the following features (Appendix 3):\n",
    "\n",
    "Variable|Description|Variable Type|Data Type\n",
    "-|-|-|-   \n",
    "ratio_sugar_flour|ratio of sugar to dry ingredients|continuous|float\n",
    "ratio_fat_flour|ratio of sugar to dry ingredients|continuous|float\n",
    "pos_adj|indicates presence of positive adjective in recipe name|categorical|binary\n",
    "health_adj|indicates presence of health-related adjective in recipe name|categorical|binary\n",
    "recipe_type|recipe category|categorical|string\n",
    "|\n",
    "\n",
    "The ratio fields were calculated by parsing out the amounts of sugar, flour and fat in each recipe. For the pos_adj and health_adj fields, I created lookup lists of positive adjectives (\"best\",\"amazing\") and 'health' adjectives (\"skinny\",\"slimmed down\") and flagged recipes that contained words from either of these lists."
   ]
  },
  {
   "cell_type": "markdown",
   "metadata": {},
   "source": [
    "### Data Processing\n",
    "\n",
    "The data from the API was returned in json format as a list of dictionaries. I converted this data to csv format and imported it as a pandas dataframe. The data scraped from AllRecipes was structured as a list. I converted the list to a dataframe and joined the two dataframes to create a master dataset."
   ]
  }
 ],
 "metadata": {
  "kernelspec": {
   "display_name": "Python 2",
   "language": "python",
   "name": "python2"
  },
  "language_info": {
   "codemirror_mode": {
    "name": "ipython",
    "version": 2
   },
   "file_extension": ".py",
   "mimetype": "text/x-python",
   "name": "python",
   "nbconvert_exporter": "python",
   "pygments_lexer": "ipython2",
   "version": "2.7.14"
  }
 },
 "nbformat": 4,
 "nbformat_minor": 2
}
