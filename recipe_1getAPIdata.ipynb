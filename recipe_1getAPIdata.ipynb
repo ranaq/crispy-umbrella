{
 "cells": [
  {
   "cell_type": "markdown",
   "metadata": {},
   "source": [
    "### Get data from Food2Fork API\n",
    "\n",
    "Libraries used: requests, urllib\n",
    "\n",
    "Limited to 500 calls per day"
   ]
  },
  {
   "cell_type": "code",
   "execution_count": null,
   "metadata": {
    "collapsed": true
   },
   "outputs": [],
   "source": [
    "import urllib\n",
    "import requests\n",
    "\n",
    "# Get recipe ids via a search query to the API\n",
    "api_key='4079d05ad9dcac35c633cd242d6df183'\n",
    "url='http://food2fork.com/api/search?key=' + api_key \n",
    "\n",
    "# search query\n",
    "query='brownies'\n",
    "\n",
    "# replace spaces in query\n",
    "query=query.replace(' ','%20')\n",
    "\n",
    "# concatenate url for search\n",
    "final_url = url + '&q=' + query\n",
    "\n",
    "# get data\n",
    "response=requests.get(final_url,params='page=18')\n",
    "data=response.json()\n",
    "\n",
    "print(data['recipes'][29])\n"
   ]
  },
  {
   "cell_type": "code",
   "execution_count": null,
   "metadata": {
    "collapsed": true
   },
   "outputs": [],
   "source": [
    "## Collect recipe IDs from search in a list \n",
    "\n",
    "list_ids=[]\n",
    "for item in data['recipes']:\n",
    "    list_ids.append(item['recipe_id']) \n",
    "len(list_ids)"
   ]
  },
  {
   "cell_type": "code",
   "execution_count": null,
   "metadata": {
    "collapsed": true
   },
   "outputs": [],
   "source": [
    "## Use list of recipe ids to return the actual recipes from the API \n",
    "\n",
    "# concatenate url for 'get'\n",
    "url2='http://food2fork.com/api/get?key=' + api_key\n",
    "# Append each recipe from the search results to a list\n",
    "data3=[]\n",
    "for id in list_ids:\n",
    "    final_url2=url2 + '&rId=' + id\n",
    "    response2=requests.get(final_url2)\n",
    "    data2=response2.json()\n",
    "    data3.append(data2)"
   ]
  },
  {
   "cell_type": "code",
   "execution_count": null,
   "metadata": {
    "collapsed": true
   },
   "outputs": [],
   "source": [
    "# Save list of recipes in json format\n",
    "import json\n",
    "with open('brownies18.json', 'w') as outfile:\n",
    "    json.dump(data3, outfile)"
   ]
  }
 ],
 "metadata": {
  "kernelspec": {
   "display_name": "Python 2",
   "language": "python",
   "name": "python2"
  },
  "language_info": {
   "codemirror_mode": {
    "name": "ipython",
    "version": 2
   },
   "file_extension": ".py",
   "mimetype": "text/x-python",
   "name": "python",
   "nbconvert_exporter": "python",
   "pygments_lexer": "ipython2",
   "version": "2.7.14"
  }
 },
 "nbformat": 4,
 "nbformat_minor": 2
}
